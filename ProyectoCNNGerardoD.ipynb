{
  "cells": [
    {
      "cell_type": "markdown",
      "metadata": {
        "id": "xswGj0ACiF1r"
      },
      "source": [
        "# **Clasificador de Frutas con CNN**"
      ]
    },
    {
      "cell_type": "markdown",
      "metadata": {
        "id": "DdF9Zrbujss6"
      },
      "source": [
        "1. Preparar el entorno y descargar el dataset"
      ]
    },
    {
      "cell_type": "code",
      "execution_count": 8,
      "metadata": {},
      "outputs": [
        {
          "data": {
            "text/plain": [
              "'C:\\\\Users\\\\gerar\\\\.kaggle\\\\kaggle.json'"
            ]
          },
          "execution_count": 8,
          "metadata": {},
          "output_type": "execute_result"
        }
      ],
      "source": [
        "import os\n",
        "import shutil\n",
        "\n",
        "\n",
        "kaggle_dir = os.path.join(os.path.expanduser(\"~\"), \".kaggle\")\n",
        "os.makedirs(kaggle_dir, exist_ok=True)\n",
        "\n",
        "shutil.copy(\"kaggle.json\", os.path.join(kaggle_dir, \"kaggle.json\"))\n"
      ]
    },
    {
      "cell_type": "code",
      "execution_count": 9,
      "metadata": {
        "id": "BeRTwU1DiTO-"
      },
      "outputs": [
        {
          "name": "stdout",
          "output_type": "stream",
          "text": [
            "Collecting kaggle\n",
            "  Using cached kaggle-1.7.4.5-py3-none-any.whl.metadata (16 kB)\n",
            "Requirement already satisfied: bleach in c:\\users\\gerar\\onedrive\\desktop\\cnn\\.venv\\lib\\site-packages (from kaggle) (6.2.0)\n",
            "Requirement already satisfied: certifi>=14.05.14 in c:\\users\\gerar\\onedrive\\desktop\\cnn\\.venv\\lib\\site-packages (from kaggle) (2025.4.26)\n",
            "Requirement already satisfied: charset-normalizer in c:\\users\\gerar\\onedrive\\desktop\\cnn\\.venv\\lib\\site-packages (from kaggle) (3.4.2)\n",
            "Requirement already satisfied: idna in c:\\users\\gerar\\onedrive\\desktop\\cnn\\.venv\\lib\\site-packages (from kaggle) (3.10)\n",
            "Requirement already satisfied: protobuf in c:\\users\\gerar\\onedrive\\desktop\\cnn\\.venv\\lib\\site-packages (from kaggle) (5.29.5)\n",
            "Requirement already satisfied: python-dateutil>=2.5.3 in c:\\users\\gerar\\onedrive\\desktop\\cnn\\.venv\\lib\\site-packages (from kaggle) (2.9.0.post0)\n",
            "Collecting python-slugify (from kaggle)\n",
            "  Downloading python_slugify-8.0.4-py2.py3-none-any.whl.metadata (8.5 kB)\n",
            "Requirement already satisfied: requests in c:\\users\\gerar\\onedrive\\desktop\\cnn\\.venv\\lib\\site-packages (from kaggle) (2.32.3)\n",
            "Requirement already satisfied: setuptools>=21.0.0 in c:\\users\\gerar\\onedrive\\desktop\\cnn\\.venv\\lib\\site-packages (from kaggle) (80.9.0)\n",
            "Requirement already satisfied: six>=1.10 in c:\\users\\gerar\\onedrive\\desktop\\cnn\\.venv\\lib\\site-packages (from kaggle) (1.17.0)\n",
            "Collecting text-unidecode (from kaggle)\n",
            "  Downloading text_unidecode-1.3-py2.py3-none-any.whl.metadata (2.4 kB)\n",
            "Collecting tqdm (from kaggle)\n",
            "  Downloading tqdm-4.67.1-py3-none-any.whl.metadata (57 kB)\n",
            "Requirement already satisfied: urllib3>=1.15.1 in c:\\users\\gerar\\onedrive\\desktop\\cnn\\.venv\\lib\\site-packages (from kaggle) (2.4.0)\n",
            "Requirement already satisfied: webencodings in c:\\users\\gerar\\onedrive\\desktop\\cnn\\.venv\\lib\\site-packages (from kaggle) (0.5.1)\n",
            "Requirement already satisfied: colorama in c:\\users\\gerar\\onedrive\\desktop\\cnn\\.venv\\lib\\site-packages (from tqdm->kaggle) (0.4.6)\n",
            "Using cached kaggle-1.7.4.5-py3-none-any.whl (181 kB)\n",
            "Downloading python_slugify-8.0.4-py2.py3-none-any.whl (10 kB)\n",
            "Downloading text_unidecode-1.3-py2.py3-none-any.whl (78 kB)\n",
            "Downloading tqdm-4.67.1-py3-none-any.whl (78 kB)\n",
            "Installing collected packages: text-unidecode, tqdm, python-slugify, kaggle\n",
            "\n",
            "   ---------- ----------------------------- 1/4 [tqdm]\n",
            "   ---------- ----------------------------- 1/4 [tqdm]\n",
            "   ---------- ----------------------------- 1/4 [tqdm]\n",
            "   ---------- ----------------------------- 1/4 [tqdm]\n",
            "   -------------------- ------------------- 2/4 [python-slugify]\n",
            "   ------------------------------ --------- 3/4 [kaggle]\n",
            "   ------------------------------ --------- 3/4 [kaggle]\n",
            "   ------------------------------ --------- 3/4 [kaggle]\n",
            "   ------------------------------ --------- 3/4 [kaggle]\n",
            "   ------------------------------ --------- 3/4 [kaggle]\n",
            "   ------------------------------ --------- 3/4 [kaggle]\n",
            "   ------------------------------ --------- 3/4 [kaggle]\n",
            "   ------------------------------ --------- 3/4 [kaggle]\n",
            "   ------------------------------ --------- 3/4 [kaggle]\n",
            "   ---------------------------------------- 4/4 [kaggle]\n",
            "\n",
            "Successfully installed kaggle-1.7.4.5 python-slugify-8.0.4 text-unidecode-1.3 tqdm-4.67.1\n"
          ]
        }
      ],
      "source": [
        "!pip install kaggle"
      ]
    },
    {
      "cell_type": "code",
      "execution_count": null,
      "metadata": {
        "colab": {
          "base_uri": "https://localhost:8080/"
        },
        "id": "A7r1kNgkixY9",
        "outputId": "3dc79b39-534f-418a-a27e-b74ddd5e3a89"
      },
      "outputs": [],
      "source": [
        "!kaggle datasets download -d moltean/fruits"
      ]
    },
    {
      "cell_type": "code",
      "execution_count": 32,
      "metadata": {
        "id": "WjSsQHQBjc37"
      },
      "outputs": [
        {
          "name": "stdout",
          "output_type": "stream",
          "text": [
            "Dataset descomprimido en carpeta 'fruits'\n"
          ]
        }
      ],
      "source": [
        "import zipfile\n",
        "import os\n",
        "\n",
        "\n",
        "os.makedirs(\"fruits\", exist_ok=True)\n",
        "\n",
        "\n",
        "with zipfile.ZipFile(\"fruits.zip\", 'r') as zip_ref:\n",
        "    zip_ref.extractall(\"fruits\")\n",
        "\n",
        "print(\"Dataset descomprimido en carpeta 'fruits'\")\n"
      ]
    },
    {
      "cell_type": "markdown",
      "metadata": {
        "id": "-IjZ2ZVTj4o-"
      },
      "source": [
        "2. Cargar y preparar los datos con ImageDataGenerator"
      ]
    },
    {
      "cell_type": "code",
      "execution_count": 12,
      "metadata": {
        "id": "rF3BH1tsj-Kl"
      },
      "outputs": [],
      "source": [
        "import tensorflow as tf\n",
        "from tensorflow.keras.preprocessing.image import ImageDataGenerator\n",
        "import os"
      ]
    },
    {
      "cell_type": "code",
      "execution_count": 33,
      "metadata": {
        "id": "TCOd6K6KkmSG"
      },
      "outputs": [],
      "source": [
        "train_dir = 'fruits/fruits-360_100x100/fruits-360/Training'\n",
        "test_dir = 'fruits/fruits-360_100x100/fruits-360/Test'"
      ]
    },
    {
      "cell_type": "code",
      "execution_count": 34,
      "metadata": {
        "id": "1zYqy2PPk0z3"
      },
      "outputs": [],
      "source": [
        "train_datagen = ImageDataGenerator(\n",
        "    rescale=1./255,\n",
        "    rotation_range=20,\n",
        "    zoom_range=0.2,\n",
        "    horizontal_flip=True,\n",
        "    validation_split=0.2\n",
        ")"
      ]
    },
    {
      "cell_type": "code",
      "execution_count": 35,
      "metadata": {
        "colab": {
          "base_uri": "https://localhost:8080/"
        },
        "id": "mZ4O2GZplN7H",
        "outputId": "30123ebd-8e4d-4dd4-d195-38dc2860db3b"
      },
      "outputs": [
        {
          "name": "stdout",
          "output_type": "stream",
          "text": [
            "Found 83260 images belonging to 206 classes.\n",
            "Found 20733 images belonging to 206 classes.\n"
          ]
        }
      ],
      "source": [
        "train_generator = train_datagen.flow_from_directory(\n",
        "    train_dir,\n",
        "    target_size=(100, 100),\n",
        "    batch_size=32,\n",
        "    class_mode='categorical',\n",
        "    subset='training'\n",
        ")\n",
        "\n",
        "val_generator = train_datagen.flow_from_directory(\n",
        "    train_dir,\n",
        "    target_size=(100, 100),\n",
        "    batch_size=32,\n",
        "    class_mode='categorical',\n",
        "    subset='validation'\n",
        ")"
      ]
    },
    {
      "cell_type": "markdown",
      "metadata": {
        "id": "DCxmouiGlVvE"
      },
      "source": [
        "3. Definir la CNN"
      ]
    },
    {
      "cell_type": "code",
      "execution_count": 5,
      "metadata": {
        "id": "UZ_mr92jlYCW"
      },
      "outputs": [],
      "source": [
        "from tensorflow.keras import layers, models"
      ]
    },
    {
      "cell_type": "code",
      "execution_count": 36,
      "metadata": {
        "colab": {
          "base_uri": "https://localhost:8080/"
        },
        "id": "8euXJlG-lbHl",
        "outputId": "cb87e49d-5fa4-475b-bef4-98630e7f980b"
      },
      "outputs": [
        {
          "name": "stdout",
          "output_type": "stream",
          "text": [
            "Número de clases detectadas: 206\n"
          ]
        }
      ],
      "source": [
        "num_classes = train_generator.num_classes\n",
        "print(f\"Número de clases detectadas: {num_classes}\")"
      ]
    },
    {
      "cell_type": "code",
      "execution_count": 37,
      "metadata": {
        "colab": {
          "base_uri": "https://localhost:8080/"
        },
        "id": "iH4OVn0vldte",
        "outputId": "3f4d8020-547a-4cca-ac7e-fd23b2fd87ec"
      },
      "outputs": [],
      "source": [
        "model = models.Sequential([\n",
        "    # Primera sección de convolución\n",
        "    layers.Conv2D(32, (3, 3), activation='relu', input_shape=(100, 100, 3)),\n",
        "    layers.Conv2D(32, (3, 3), activation='relu'),\n",
        "    layers.MaxPooling2D(pool_size=(2, 2)),\n",
        "    layers.Dropout(0.25),\n",
        "\n",
        "    # Segunda sección de convolución\n",
        "    layers.Conv2D(64, (3, 3), activation='relu'),\n",
        "    layers.Conv2D(64, (3, 3), activation='relu'),\n",
        "    layers.MaxPooling2D(pool_size=(2, 2)),\n",
        "    layers.Dropout(0.25),\n",
        "\n",
        "    # Clasificación\n",
        "    layers.Flatten(),\n",
        "    layers.Dense(256, activation='relu'),\n",
        "    layers.Dropout(0.5),\n",
        "    layers.Dense(num_classes, activation='softmax')\n",
        "])"
      ]
    },
    {
      "cell_type": "code",
      "execution_count": 38,
      "metadata": {
        "id": "hilRx2kGlkvH"
      },
      "outputs": [],
      "source": [
        "model.compile(\n",
        "    optimizer='adam',\n",
        "    loss='categorical_crossentropy',\n",
        "    metrics=['accuracy']\n",
        ")"
      ]
    },
    {
      "cell_type": "code",
      "execution_count": 39,
      "metadata": {
        "colab": {
          "base_uri": "https://localhost:8080/",
          "height": 513
        },
        "id": "jKwT28zblpd1",
        "outputId": "12a8cc29-14d1-4db3-9e53-ed64e7d6d8eb"
      },
      "outputs": [
        {
          "data": {
            "text/html": [
              "<pre style=\"white-space:pre;overflow-x:auto;line-height:normal;font-family:Menlo,'DejaVu Sans Mono',consolas,'Courier New',monospace\"><span style=\"font-weight: bold\">Model: \"sequential_2\"</span>\n",
              "</pre>\n"
            ],
            "text/plain": [
              "\u001b[1mModel: \"sequential_2\"\u001b[0m\n"
            ]
          },
          "metadata": {},
          "output_type": "display_data"
        },
        {
          "data": {
            "text/html": [
              "<pre style=\"white-space:pre;overflow-x:auto;line-height:normal;font-family:Menlo,'DejaVu Sans Mono',consolas,'Courier New',monospace\">┏━━━━━━━━━━━━━━━━━━━━━━━━━━━━━━━━━┳━━━━━━━━━━━━━━━━━━━━━━━━┳━━━━━━━━━━━━━━━┓\n",
              "┃<span style=\"font-weight: bold\"> Layer (type)                    </span>┃<span style=\"font-weight: bold\"> Output Shape           </span>┃<span style=\"font-weight: bold\">       Param # </span>┃\n",
              "┡━━━━━━━━━━━━━━━━━━━━━━━━━━━━━━━━━╇━━━━━━━━━━━━━━━━━━━━━━━━╇━━━━━━━━━━━━━━━┩\n",
              "│ conv2d_8 (<span style=\"color: #0087ff; text-decoration-color: #0087ff\">Conv2D</span>)               │ (<span style=\"color: #00d7ff; text-decoration-color: #00d7ff\">None</span>, <span style=\"color: #00af00; text-decoration-color: #00af00\">98</span>, <span style=\"color: #00af00; text-decoration-color: #00af00\">98</span>, <span style=\"color: #00af00; text-decoration-color: #00af00\">32</span>)     │           <span style=\"color: #00af00; text-decoration-color: #00af00\">896</span> │\n",
              "├─────────────────────────────────┼────────────────────────┼───────────────┤\n",
              "│ conv2d_9 (<span style=\"color: #0087ff; text-decoration-color: #0087ff\">Conv2D</span>)               │ (<span style=\"color: #00d7ff; text-decoration-color: #00d7ff\">None</span>, <span style=\"color: #00af00; text-decoration-color: #00af00\">96</span>, <span style=\"color: #00af00; text-decoration-color: #00af00\">96</span>, <span style=\"color: #00af00; text-decoration-color: #00af00\">32</span>)     │         <span style=\"color: #00af00; text-decoration-color: #00af00\">9,248</span> │\n",
              "├─────────────────────────────────┼────────────────────────┼───────────────┤\n",
              "│ max_pooling2d_4 (<span style=\"color: #0087ff; text-decoration-color: #0087ff\">MaxPooling2D</span>)  │ (<span style=\"color: #00d7ff; text-decoration-color: #00d7ff\">None</span>, <span style=\"color: #00af00; text-decoration-color: #00af00\">48</span>, <span style=\"color: #00af00; text-decoration-color: #00af00\">48</span>, <span style=\"color: #00af00; text-decoration-color: #00af00\">32</span>)     │             <span style=\"color: #00af00; text-decoration-color: #00af00\">0</span> │\n",
              "├─────────────────────────────────┼────────────────────────┼───────────────┤\n",
              "│ dropout_6 (<span style=\"color: #0087ff; text-decoration-color: #0087ff\">Dropout</span>)             │ (<span style=\"color: #00d7ff; text-decoration-color: #00d7ff\">None</span>, <span style=\"color: #00af00; text-decoration-color: #00af00\">48</span>, <span style=\"color: #00af00; text-decoration-color: #00af00\">48</span>, <span style=\"color: #00af00; text-decoration-color: #00af00\">32</span>)     │             <span style=\"color: #00af00; text-decoration-color: #00af00\">0</span> │\n",
              "├─────────────────────────────────┼────────────────────────┼───────────────┤\n",
              "│ conv2d_10 (<span style=\"color: #0087ff; text-decoration-color: #0087ff\">Conv2D</span>)              │ (<span style=\"color: #00d7ff; text-decoration-color: #00d7ff\">None</span>, <span style=\"color: #00af00; text-decoration-color: #00af00\">46</span>, <span style=\"color: #00af00; text-decoration-color: #00af00\">46</span>, <span style=\"color: #00af00; text-decoration-color: #00af00\">64</span>)     │        <span style=\"color: #00af00; text-decoration-color: #00af00\">18,496</span> │\n",
              "├─────────────────────────────────┼────────────────────────┼───────────────┤\n",
              "│ conv2d_11 (<span style=\"color: #0087ff; text-decoration-color: #0087ff\">Conv2D</span>)              │ (<span style=\"color: #00d7ff; text-decoration-color: #00d7ff\">None</span>, <span style=\"color: #00af00; text-decoration-color: #00af00\">44</span>, <span style=\"color: #00af00; text-decoration-color: #00af00\">44</span>, <span style=\"color: #00af00; text-decoration-color: #00af00\">64</span>)     │        <span style=\"color: #00af00; text-decoration-color: #00af00\">36,928</span> │\n",
              "├─────────────────────────────────┼────────────────────────┼───────────────┤\n",
              "│ max_pooling2d_5 (<span style=\"color: #0087ff; text-decoration-color: #0087ff\">MaxPooling2D</span>)  │ (<span style=\"color: #00d7ff; text-decoration-color: #00d7ff\">None</span>, <span style=\"color: #00af00; text-decoration-color: #00af00\">22</span>, <span style=\"color: #00af00; text-decoration-color: #00af00\">22</span>, <span style=\"color: #00af00; text-decoration-color: #00af00\">64</span>)     │             <span style=\"color: #00af00; text-decoration-color: #00af00\">0</span> │\n",
              "├─────────────────────────────────┼────────────────────────┼───────────────┤\n",
              "│ dropout_7 (<span style=\"color: #0087ff; text-decoration-color: #0087ff\">Dropout</span>)             │ (<span style=\"color: #00d7ff; text-decoration-color: #00d7ff\">None</span>, <span style=\"color: #00af00; text-decoration-color: #00af00\">22</span>, <span style=\"color: #00af00; text-decoration-color: #00af00\">22</span>, <span style=\"color: #00af00; text-decoration-color: #00af00\">64</span>)     │             <span style=\"color: #00af00; text-decoration-color: #00af00\">0</span> │\n",
              "├─────────────────────────────────┼────────────────────────┼───────────────┤\n",
              "│ flatten_2 (<span style=\"color: #0087ff; text-decoration-color: #0087ff\">Flatten</span>)             │ (<span style=\"color: #00d7ff; text-decoration-color: #00d7ff\">None</span>, <span style=\"color: #00af00; text-decoration-color: #00af00\">30976</span>)          │             <span style=\"color: #00af00; text-decoration-color: #00af00\">0</span> │\n",
              "├─────────────────────────────────┼────────────────────────┼───────────────┤\n",
              "│ dense_4 (<span style=\"color: #0087ff; text-decoration-color: #0087ff\">Dense</span>)                 │ (<span style=\"color: #00d7ff; text-decoration-color: #00d7ff\">None</span>, <span style=\"color: #00af00; text-decoration-color: #00af00\">256</span>)            │     <span style=\"color: #00af00; text-decoration-color: #00af00\">7,930,112</span> │\n",
              "├─────────────────────────────────┼────────────────────────┼───────────────┤\n",
              "│ dropout_8 (<span style=\"color: #0087ff; text-decoration-color: #0087ff\">Dropout</span>)             │ (<span style=\"color: #00d7ff; text-decoration-color: #00d7ff\">None</span>, <span style=\"color: #00af00; text-decoration-color: #00af00\">256</span>)            │             <span style=\"color: #00af00; text-decoration-color: #00af00\">0</span> │\n",
              "├─────────────────────────────────┼────────────────────────┼───────────────┤\n",
              "│ dense_5 (<span style=\"color: #0087ff; text-decoration-color: #0087ff\">Dense</span>)                 │ (<span style=\"color: #00d7ff; text-decoration-color: #00d7ff\">None</span>, <span style=\"color: #00af00; text-decoration-color: #00af00\">206</span>)            │        <span style=\"color: #00af00; text-decoration-color: #00af00\">52,942</span> │\n",
              "└─────────────────────────────────┴────────────────────────┴───────────────┘\n",
              "</pre>\n"
            ],
            "text/plain": [
              "┏━━━━━━━━━━━━━━━━━━━━━━━━━━━━━━━━━┳━━━━━━━━━━━━━━━━━━━━━━━━┳━━━━━━━━━━━━━━━┓\n",
              "┃\u001b[1m \u001b[0m\u001b[1mLayer (type)                   \u001b[0m\u001b[1m \u001b[0m┃\u001b[1m \u001b[0m\u001b[1mOutput Shape          \u001b[0m\u001b[1m \u001b[0m┃\u001b[1m \u001b[0m\u001b[1m      Param #\u001b[0m\u001b[1m \u001b[0m┃\n",
              "┡━━━━━━━━━━━━━━━━━━━━━━━━━━━━━━━━━╇━━━━━━━━━━━━━━━━━━━━━━━━╇━━━━━━━━━━━━━━━┩\n",
              "│ conv2d_8 (\u001b[38;5;33mConv2D\u001b[0m)               │ (\u001b[38;5;45mNone\u001b[0m, \u001b[38;5;34m98\u001b[0m, \u001b[38;5;34m98\u001b[0m, \u001b[38;5;34m32\u001b[0m)     │           \u001b[38;5;34m896\u001b[0m │\n",
              "├─────────────────────────────────┼────────────────────────┼───────────────┤\n",
              "│ conv2d_9 (\u001b[38;5;33mConv2D\u001b[0m)               │ (\u001b[38;5;45mNone\u001b[0m, \u001b[38;5;34m96\u001b[0m, \u001b[38;5;34m96\u001b[0m, \u001b[38;5;34m32\u001b[0m)     │         \u001b[38;5;34m9,248\u001b[0m │\n",
              "├─────────────────────────────────┼────────────────────────┼───────────────┤\n",
              "│ max_pooling2d_4 (\u001b[38;5;33mMaxPooling2D\u001b[0m)  │ (\u001b[38;5;45mNone\u001b[0m, \u001b[38;5;34m48\u001b[0m, \u001b[38;5;34m48\u001b[0m, \u001b[38;5;34m32\u001b[0m)     │             \u001b[38;5;34m0\u001b[0m │\n",
              "├─────────────────────────────────┼────────────────────────┼───────────────┤\n",
              "│ dropout_6 (\u001b[38;5;33mDropout\u001b[0m)             │ (\u001b[38;5;45mNone\u001b[0m, \u001b[38;5;34m48\u001b[0m, \u001b[38;5;34m48\u001b[0m, \u001b[38;5;34m32\u001b[0m)     │             \u001b[38;5;34m0\u001b[0m │\n",
              "├─────────────────────────────────┼────────────────────────┼───────────────┤\n",
              "│ conv2d_10 (\u001b[38;5;33mConv2D\u001b[0m)              │ (\u001b[38;5;45mNone\u001b[0m, \u001b[38;5;34m46\u001b[0m, \u001b[38;5;34m46\u001b[0m, \u001b[38;5;34m64\u001b[0m)     │        \u001b[38;5;34m18,496\u001b[0m │\n",
              "├─────────────────────────────────┼────────────────────────┼───────────────┤\n",
              "│ conv2d_11 (\u001b[38;5;33mConv2D\u001b[0m)              │ (\u001b[38;5;45mNone\u001b[0m, \u001b[38;5;34m44\u001b[0m, \u001b[38;5;34m44\u001b[0m, \u001b[38;5;34m64\u001b[0m)     │        \u001b[38;5;34m36,928\u001b[0m │\n",
              "├─────────────────────────────────┼────────────────────────┼───────────────┤\n",
              "│ max_pooling2d_5 (\u001b[38;5;33mMaxPooling2D\u001b[0m)  │ (\u001b[38;5;45mNone\u001b[0m, \u001b[38;5;34m22\u001b[0m, \u001b[38;5;34m22\u001b[0m, \u001b[38;5;34m64\u001b[0m)     │             \u001b[38;5;34m0\u001b[0m │\n",
              "├─────────────────────────────────┼────────────────────────┼───────────────┤\n",
              "│ dropout_7 (\u001b[38;5;33mDropout\u001b[0m)             │ (\u001b[38;5;45mNone\u001b[0m, \u001b[38;5;34m22\u001b[0m, \u001b[38;5;34m22\u001b[0m, \u001b[38;5;34m64\u001b[0m)     │             \u001b[38;5;34m0\u001b[0m │\n",
              "├─────────────────────────────────┼────────────────────────┼───────────────┤\n",
              "│ flatten_2 (\u001b[38;5;33mFlatten\u001b[0m)             │ (\u001b[38;5;45mNone\u001b[0m, \u001b[38;5;34m30976\u001b[0m)          │             \u001b[38;5;34m0\u001b[0m │\n",
              "├─────────────────────────────────┼────────────────────────┼───────────────┤\n",
              "│ dense_4 (\u001b[38;5;33mDense\u001b[0m)                 │ (\u001b[38;5;45mNone\u001b[0m, \u001b[38;5;34m256\u001b[0m)            │     \u001b[38;5;34m7,930,112\u001b[0m │\n",
              "├─────────────────────────────────┼────────────────────────┼───────────────┤\n",
              "│ dropout_8 (\u001b[38;5;33mDropout\u001b[0m)             │ (\u001b[38;5;45mNone\u001b[0m, \u001b[38;5;34m256\u001b[0m)            │             \u001b[38;5;34m0\u001b[0m │\n",
              "├─────────────────────────────────┼────────────────────────┼───────────────┤\n",
              "│ dense_5 (\u001b[38;5;33mDense\u001b[0m)                 │ (\u001b[38;5;45mNone\u001b[0m, \u001b[38;5;34m206\u001b[0m)            │        \u001b[38;5;34m52,942\u001b[0m │\n",
              "└─────────────────────────────────┴────────────────────────┴───────────────┘\n"
            ]
          },
          "metadata": {},
          "output_type": "display_data"
        },
        {
          "data": {
            "text/html": [
              "<pre style=\"white-space:pre;overflow-x:auto;line-height:normal;font-family:Menlo,'DejaVu Sans Mono',consolas,'Courier New',monospace\"><span style=\"font-weight: bold\"> Total params: </span><span style=\"color: #00af00; text-decoration-color: #00af00\">8,048,622</span> (30.70 MB)\n",
              "</pre>\n"
            ],
            "text/plain": [
              "\u001b[1m Total params: \u001b[0m\u001b[38;5;34m8,048,622\u001b[0m (30.70 MB)\n"
            ]
          },
          "metadata": {},
          "output_type": "display_data"
        },
        {
          "data": {
            "text/html": [
              "<pre style=\"white-space:pre;overflow-x:auto;line-height:normal;font-family:Menlo,'DejaVu Sans Mono',consolas,'Courier New',monospace\"><span style=\"font-weight: bold\"> Trainable params: </span><span style=\"color: #00af00; text-decoration-color: #00af00\">8,048,622</span> (30.70 MB)\n",
              "</pre>\n"
            ],
            "text/plain": [
              "\u001b[1m Trainable params: \u001b[0m\u001b[38;5;34m8,048,622\u001b[0m (30.70 MB)\n"
            ]
          },
          "metadata": {},
          "output_type": "display_data"
        },
        {
          "data": {
            "text/html": [
              "<pre style=\"white-space:pre;overflow-x:auto;line-height:normal;font-family:Menlo,'DejaVu Sans Mono',consolas,'Courier New',monospace\"><span style=\"font-weight: bold\"> Non-trainable params: </span><span style=\"color: #00af00; text-decoration-color: #00af00\">0</span> (0.00 B)\n",
              "</pre>\n"
            ],
            "text/plain": [
              "\u001b[1m Non-trainable params: \u001b[0m\u001b[38;5;34m0\u001b[0m (0.00 B)\n"
            ]
          },
          "metadata": {},
          "output_type": "display_data"
        }
      ],
      "source": [
        "model.summary()"
      ]
    },
    {
      "cell_type": "markdown",
      "metadata": {
        "id": "B-BKELVMnpfl"
      },
      "source": [
        "4. Entrenamiento del Modelo CNN"
      ]
    },
    {
      "cell_type": "code",
      "execution_count": null,
      "metadata": {
        "colab": {
          "base_uri": "https://localhost:8080/",
          "height": 446
        },
        "id": "dAflGPXslvQY",
        "outputId": "f00c758a-001b-476d-cb61-cb46789ea5be"
      },
      "outputs": [],
      "source": [
        "history = model.fit(\n",
        "    train_generator,\n",
        "    validation_data=val_generator,\n",
        "    epochs=20\n",
        ")"
      ]
    },
    {
      "cell_type": "code",
      "execution_count": 22,
      "metadata": {
        "id": "gDO6qLTIa5NH"
      },
      "outputs": [],
      "source": [
        "model.save('modelo_frutas.keras')"
      ]
    },
    {
      "cell_type": "code",
      "execution_count": 24,
      "metadata": {
        "colab": {
          "base_uri": "https://localhost:8080/",
          "height": 183
        },
        "id": "J4flrg9se7qo",
        "outputId": "eacffd15-e04e-4930-f89a-7b3983efdf9d"
      },
      "outputs": [],
      "source": [
        "import json\n",
        "\n",
        "with open('historial_entrenamiento.json', 'w') as f:\n",
        "    json.dump(history.history, f)"
      ]
    },
    {
      "cell_type": "code",
      "execution_count": 40,
      "metadata": {
        "id": "cZjRucY-fLnK"
      },
      "outputs": [],
      "source": [
        "from tensorflow.keras.models import load_model\n",
        "\n",
        "model = load_model('modelo_frutas.keras')"
      ]
    },
    {
      "cell_type": "code",
      "execution_count": 41,
      "metadata": {
        "id": "Pb4IGJ-hfNxs"
      },
      "outputs": [],
      "source": [
        "import json\n",
        "\n",
        "with open('historial_entrenamiento.json', 'r') as f:\n",
        "    history_dict = json.load(f)\n"
      ]
    },
    {
      "cell_type": "markdown",
      "metadata": {
        "id": "ftqd05UGdLaz"
      },
      "source": [
        "5. Visulizacion de Metricas de entrenamiento"
      ]
    },
    {
      "cell_type": "code",
      "execution_count": 42,
      "metadata": {
        "colab": {
          "base_uri": "https://localhost:8080/",
          "height": 276
        },
        "id": "KOZemSwZyFTL",
        "outputId": "25f24958-14c9-47d4-f0f2-ad2ba38f8fd1"
      },
      "outputs": [
        {
          "data": {
            "image/png": "[encoded data removed]",
            "text/plain": [
              "<Figure size 800x500 with 1 Axes>"
            ]
          },
          "metadata": {},
          "output_type": "display_data"
        }
      ],
      "source": [
        "import matplotlib.pyplot as plt\n",
        "\n",
        "plt.figure(figsize=(8,5))\n",
        "plt.plot(history_dict['accuracy'], label='Precisión Entrenamiento')\n",
        "plt.plot(history_dict['val_accuracy'], label='Precisión Validación')\n",
        "plt.title('Precisión del Modelo')\n",
        "plt.xlabel('Épocas')\n",
        "plt.ylabel('Precisión')\n",
        "plt.legend()\n",
        "plt.grid(True)\n",
        "plt.show()"
      ]
    },
    {
      "cell_type": "code",
      "execution_count": 43,
      "metadata": {
        "colab": {
          "base_uri": "https://localhost:8080/",
          "height": 219
        },
        "id": "ylIYY8szzNJ0",
        "outputId": "54608a89-e397-49d3-bf25-f9d4c6f831b2"
      },
      "outputs": [
        {
          "data": {
            "image/png": "[encoded data removed]",
            "text/plain": [
              "<Figure size 800x500 with 1 Axes>"
            ]
          },
          "metadata": {},
          "output_type": "display_data"
        }
      ],
      "source": [
        "plt.figure(figsize=(8,5))\n",
        "plt.plot(history_dict['loss'], label='Pérdida Entrenamiento')\n",
        "plt.plot(history_dict['val_loss'], label='Pérdida Validación')\n",
        "plt.title('Pérdida del Modelo')\n",
        "plt.xlabel('Épocas')\n",
        "plt.ylabel('Pérdida')\n",
        "plt.legend()\n",
        "plt.grid(True)\n",
        "plt.show()"
      ]
    },
    {
      "cell_type": "markdown",
      "metadata": {
        "id": "OrqeMFVNdQMd"
      },
      "source": [
        "6. Evaluar el modelo con el conjunto de prueba"
      ]
    },
    {
      "cell_type": "code",
      "execution_count": 44,
      "metadata": {
        "id": "WOxVOVwOdU1k"
      },
      "outputs": [
        {
          "name": "stdout",
          "output_type": "stream",
          "text": [
            "Found 34711 images belonging to 206 classes.\n"
          ]
        }
      ],
      "source": [
        "test_datagen = tf.keras.preprocessing.image.ImageDataGenerator(rescale=1./255)\n",
        "\n",
        "test_generator = test_datagen.flow_from_directory(\n",
        "    'fruits/fruits-360_100x100/fruits-360/Test',\n",
        "    target_size=(100, 100),\n",
        "    batch_size=32,\n",
        "    class_mode='categorical',\n",
        "    shuffle=False  \n",
        ")"
      ]
    },
    {
      "cell_type": "code",
      "execution_count": 45,
      "metadata": {},
      "outputs": [
        {
          "name": "stdout",
          "output_type": "stream",
          "text": [
            "Clases en entrenamiento: 206\n",
            "Clases en test: 206\n",
            "Clases del modelo (output): 206\n",
            "Clases detectadas en train: {'Apple 10': 0, 'Apple 11': 1, 'Apple 12': 2, 'Apple 13': 3, 'Apple 14': 4, 'Apple 17': 5, 'Apple 18': 6, 'Apple 19': 7, 'Apple 5': 8, 'Apple 6': 9, 'Apple 7': 10, 'Apple 8': 11, 'Apple 9': 12, 'Apple Braeburn 1': 13, 'Apple Core 1': 14, 'Apple Crimson Snow 1': 15, 'Apple Golden 1': 16, 'Apple Golden 2': 17, 'Apple Golden 3': 18, 'Apple Granny Smith 1': 19, 'Apple Pink Lady 1': 20, 'Apple Red 1': 21, 'Apple Red 2': 22, 'Apple Red 3': 23, 'Apple Red Delicious 1': 24, 'Apple Red Yellow 1': 25, 'Apple Red Yellow 2': 26, 'Apple Rotten 1': 27, 'Apple hit 1': 28, 'Apple worm 1': 29, 'Apricot 1': 30, 'Avocado 1': 31, 'Avocado Black 1': 32, 'Avocado Green 1': 33, 'Avocado ripe 1': 34, 'Banana 1': 35, 'Banana 3': 36, 'Banana 4': 37, 'Banana Lady Finger 1': 38, 'Banana Red 1': 39, 'Beans 1': 40, 'Beetroot 1': 41, 'Blackberrie 1': 42, 'Blackberrie 2': 43, 'Blackberrie half rippen 1': 44, 'Blackberrie not rippen 1': 45, 'Blueberry 1': 46, 'Cabbage red 1': 47, 'Cabbage white 1': 48, 'Cactus fruit 1': 49, 'Cactus fruit green 1': 50, 'Cactus fruit red 1': 51, 'Caju seed 1': 52, 'Cantaloupe 1': 53, 'Cantaloupe 2': 54, 'Carambula 1': 55, 'Carrot 1': 56, 'Cauliflower 1': 57, 'Cherimoya 1': 58, 'Cherry 1': 59, 'Cherry 2': 60, 'Cherry 3': 61, 'Cherry 4': 62, 'Cherry 5': 63, 'Cherry Rainier 1': 64, 'Cherry Rainier 2': 65, 'Cherry Rainier 3': 66, 'Cherry Sour 1': 67, 'Cherry Wax Black 1': 68, 'Cherry Wax Red 1': 69, 'Cherry Wax Red 2': 70, 'Cherry Wax Red 3': 71, 'Cherry Wax Yellow 1': 72, 'Cherry Wax not ripen 1': 73, 'Cherry Wax not ripen 2': 74, 'Chestnut 1': 75, 'Clementine 1': 76, 'Cocos 1': 77, 'Corn 1': 78, 'Corn Husk 1': 79, 'Cucumber 1': 80, 'Cucumber 10': 81, 'Cucumber 11': 82, 'Cucumber 3': 83, 'Cucumber 4': 84, 'Cucumber 5': 85, 'Cucumber 7': 86, 'Cucumber 9': 87, 'Cucumber Ripe 1': 88, 'Cucumber Ripe 2': 89, 'Dates 1': 90, 'Eggplant 1': 91, 'Eggplant long 1': 92, 'Fig 1': 93, 'Ginger Root 1': 94, 'Gooseberry 1': 95, 'Granadilla 1': 96, 'Grape Blue 1': 97, 'Grape Pink 1': 98, 'Grape White 1': 99, 'Grape White 2': 100, 'Grape White 3': 101, 'Grape White 4': 102, 'Grapefruit Pink 1': 103, 'Grapefruit White 1': 104, 'Guava 1': 105, 'Hazelnut 1': 106, 'Huckleberry 1': 107, 'Kaki 1': 108, 'Kiwi 1': 109, 'Kohlrabi 1': 110, 'Kumquats 1': 111, 'Lemon 1': 112, 'Lemon Meyer 1': 113, 'Limes 1': 114, 'Lychee 1': 115, 'Mandarine 1': 116, 'Mango 1': 117, 'Mango Red 1': 118, 'Mangostan 1': 119, 'Maracuja 1': 120, 'Melon Piel de Sapo 1': 121, 'Mulberry 1': 122, 'Nectarine 1': 123, 'Nectarine Flat 1': 124, 'Nut 1': 125, 'Nut 2': 126, 'Nut 3': 127, 'Nut 4': 128, 'Nut 5': 129, 'Nut Forest 1': 130, 'Nut Pecan 1': 131, 'Onion Red 1': 132, 'Onion Red Peeled 1': 133, 'Onion White 1': 134, 'Orange 1': 135, 'Papaya 1': 136, 'Passion Fruit 1': 137, 'Peach 1': 138, 'Peach 2': 139, 'Peach Flat 1': 140, 'Pear 1': 141, 'Pear 2': 142, 'Pear 3': 143, 'Pear Abate 1': 144, 'Pear Forelle 1': 145, 'Pear Kaiser 1': 146, 'Pear Monster 1': 147, 'Pear Red 1': 148, 'Pear Stone 1': 149, 'Pear Williams 1': 150, 'Pepino 1': 151, 'Pepper Green 1': 152, 'Pepper Orange 1': 153, 'Pepper Red 1': 154, 'Pepper Yellow 1': 155, 'Physalis 1': 156, 'Physalis with Husk 1': 157, 'Pineapple 1': 158, 'Pineapple Mini 1': 159, 'Pistachio 1': 160, 'Pitahaya Red 1': 161, 'Plum 1': 162, 'Plum 2': 163, 'Plum 3': 164, 'Pomegranate 1': 165, 'Pomelo Sweetie 1': 166, 'Potato Red 1': 167, 'Potato Red Washed 1': 168, 'Potato Sweet 1': 169, 'Potato White 1': 170, 'Quince 1': 171, 'Quince 2': 172, 'Quince 3': 173, 'Quince 4': 174, 'Rambutan 1': 175, 'Raspberry 1': 176, 'Redcurrant 1': 177, 'Salak 1': 178, 'Strawberry 1': 179, 'Strawberry Wedge 1': 180, 'Tamarillo 1': 181, 'Tangelo 1': 182, 'Tomato 1': 183, 'Tomato 10': 184, 'Tomato 2': 185, 'Tomato 3': 186, 'Tomato 4': 187, 'Tomato 5': 188, 'Tomato 7': 189, 'Tomato 8': 190, 'Tomato 9': 191, 'Tomato Cherry Maroon 1': 192, 'Tomato Cherry Orange 1': 193, 'Tomato Cherry Red 1': 194, 'Tomato Cherry Red 2': 195, 'Tomato Cherry Yellow 1': 196, 'Tomato Heart 1': 197, 'Tomato Maroon 1': 198, 'Tomato Maroon 2': 199, 'Tomato Yellow 1': 200, 'Tomato not Ripen 1': 201, 'Walnut 1': 202, 'Watermelon 1': 203, 'Zucchini 1': 204, 'Zucchini dark 1': 205}\n",
            "Clases detectadas en test: {'Apple 10': 0, 'Apple 11': 1, 'Apple 12': 2, 'Apple 13': 3, 'Apple 14': 4, 'Apple 17': 5, 'Apple 18': 6, 'Apple 19': 7, 'Apple 5': 8, 'Apple 6': 9, 'Apple 7': 10, 'Apple 8': 11, 'Apple 9': 12, 'Apple Braeburn 1': 13, 'Apple Core 1': 14, 'Apple Crimson Snow 1': 15, 'Apple Golden 1': 16, 'Apple Golden 2': 17, 'Apple Golden 3': 18, 'Apple Granny Smith 1': 19, 'Apple Pink Lady 1': 20, 'Apple Red 1': 21, 'Apple Red 2': 22, 'Apple Red 3': 23, 'Apple Red Delicious 1': 24, 'Apple Red Yellow 1': 25, 'Apple Red Yellow 2': 26, 'Apple Rotten 1': 27, 'Apple hit 1': 28, 'Apple worm 1': 29, 'Apricot 1': 30, 'Avocado 1': 31, 'Avocado Black 1': 32, 'Avocado Green 1': 33, 'Avocado ripe 1': 34, 'Banana 1': 35, 'Banana 3': 36, 'Banana 4': 37, 'Banana Lady Finger 1': 38, 'Banana Red 1': 39, 'Beans 1': 40, 'Beetroot 1': 41, 'Blackberrie 1': 42, 'Blackberrie 2': 43, 'Blackberrie half rippen 1': 44, 'Blackberrie not rippen 1': 45, 'Blueberry 1': 46, 'Cabbage red 1': 47, 'Cabbage white 1': 48, 'Cactus fruit 1': 49, 'Cactus fruit green 1': 50, 'Cactus fruit red 1': 51, 'Caju seed 1': 52, 'Cantaloupe 1': 53, 'Cantaloupe 2': 54, 'Carambula 1': 55, 'Carrot 1': 56, 'Cauliflower 1': 57, 'Cherimoya 1': 58, 'Cherry 1': 59, 'Cherry 2': 60, 'Cherry 3': 61, 'Cherry 4': 62, 'Cherry 5': 63, 'Cherry Rainier 1': 64, 'Cherry Rainier 2': 65, 'Cherry Rainier 3': 66, 'Cherry Sour 1': 67, 'Cherry Wax Black 1': 68, 'Cherry Wax Red 1': 69, 'Cherry Wax Red 2': 70, 'Cherry Wax Red 3': 71, 'Cherry Wax Yellow 1': 72, 'Cherry Wax not ripen 1': 73, 'Cherry Wax not ripen 2': 74, 'Chestnut 1': 75, 'Clementine 1': 76, 'Cocos 1': 77, 'Corn 1': 78, 'Corn Husk 1': 79, 'Cucumber 1': 80, 'Cucumber 10': 81, 'Cucumber 11': 82, 'Cucumber 3': 83, 'Cucumber 4': 84, 'Cucumber 5': 85, 'Cucumber 7': 86, 'Cucumber 9': 87, 'Cucumber Ripe 1': 88, 'Cucumber Ripe 2': 89, 'Dates 1': 90, 'Eggplant 1': 91, 'Eggplant long 1': 92, 'Fig 1': 93, 'Ginger Root 1': 94, 'Gooseberry 1': 95, 'Granadilla 1': 96, 'Grape Blue 1': 97, 'Grape Pink 1': 98, 'Grape White 1': 99, 'Grape White 2': 100, 'Grape White 3': 101, 'Grape White 4': 102, 'Grapefruit Pink 1': 103, 'Grapefruit White 1': 104, 'Guava 1': 105, 'Hazelnut 1': 106, 'Huckleberry 1': 107, 'Kaki 1': 108, 'Kiwi 1': 109, 'Kohlrabi 1': 110, 'Kumquats 1': 111, 'Lemon 1': 112, 'Lemon Meyer 1': 113, 'Limes 1': 114, 'Lychee 1': 115, 'Mandarine 1': 116, 'Mango 1': 117, 'Mango Red 1': 118, 'Mangostan 1': 119, 'Maracuja 1': 120, 'Melon Piel de Sapo 1': 121, 'Mulberry 1': 122, 'Nectarine 1': 123, 'Nectarine Flat 1': 124, 'Nut 1': 125, 'Nut 2': 126, 'Nut 3': 127, 'Nut 4': 128, 'Nut 5': 129, 'Nut Forest 1': 130, 'Nut Pecan 1': 131, 'Onion Red 1': 132, 'Onion Red Peeled 1': 133, 'Onion White 1': 134, 'Orange 1': 135, 'Papaya 1': 136, 'Passion Fruit 1': 137, 'Peach 1': 138, 'Peach 2': 139, 'Peach Flat 1': 140, 'Pear 1': 141, 'Pear 2': 142, 'Pear 3': 143, 'Pear Abate 1': 144, 'Pear Forelle 1': 145, 'Pear Kaiser 1': 146, 'Pear Monster 1': 147, 'Pear Red 1': 148, 'Pear Stone 1': 149, 'Pear Williams 1': 150, 'Pepino 1': 151, 'Pepper Green 1': 152, 'Pepper Orange 1': 153, 'Pepper Red 1': 154, 'Pepper Yellow 1': 155, 'Physalis 1': 156, 'Physalis with Husk 1': 157, 'Pineapple 1': 158, 'Pineapple Mini 1': 159, 'Pistachio 1': 160, 'Pitahaya Red 1': 161, 'Plum 1': 162, 'Plum 2': 163, 'Plum 3': 164, 'Pomegranate 1': 165, 'Pomelo Sweetie 1': 166, 'Potato Red 1': 167, 'Potato Red Washed 1': 168, 'Potato Sweet 1': 169, 'Potato White 1': 170, 'Quince 1': 171, 'Quince 2': 172, 'Quince 3': 173, 'Quince 4': 174, 'Rambutan 1': 175, 'Raspberry 1': 176, 'Redcurrant 1': 177, 'Salak 1': 178, 'Strawberry 1': 179, 'Strawberry Wedge 1': 180, 'Tamarillo 1': 181, 'Tangelo 1': 182, 'Tomato 1': 183, 'Tomato 10': 184, 'Tomato 2': 185, 'Tomato 3': 186, 'Tomato 4': 187, 'Tomato 5': 188, 'Tomato 7': 189, 'Tomato 8': 190, 'Tomato 9': 191, 'Tomato Cherry Maroon 1': 192, 'Tomato Cherry Orange 1': 193, 'Tomato Cherry Red 1': 194, 'Tomato Cherry Red 2': 195, 'Tomato Cherry Yellow 1': 196, 'Tomato Heart 1': 197, 'Tomato Maroon 1': 198, 'Tomato Maroon 2': 199, 'Tomato Yellow 1': 200, 'Tomato not Ripen 1': 201, 'Walnut 1': 202, 'Watermelon 1': 203, 'Zucchini 1': 204, 'Zucchini dark 1': 205}\n"
          ]
        }
      ],
      "source": [
        "print(\"Clases en entrenamiento:\", train_generator.num_classes)\n",
        "print(\"Clases en test:\", test_generator.num_classes)\n",
        "print(\"Clases del modelo (output):\", model.output_shape[-1])\n",
        "print(\"Clases detectadas en train:\", train_generator.class_indices)\n",
        "print(\"Clases detectadas en test:\", test_generator.class_indices)"
      ]
    },
    {
      "cell_type": "code",
      "execution_count": 46,
      "metadata": {
        "id": "-DOQu7SsdXcz"
      },
      "outputs": [
        {
          "name": "stdout",
          "output_type": "stream",
          "text": [
            "\u001b[1m1085/1085\u001b[0m \u001b[32m━━━━━━━━━━━━━━━━━━━━\u001b[0m\u001b[37m\u001b[0m \u001b[1m862s\u001b[0m 793ms/step - accuracy: 0.9522 - loss: 0.2241\n",
            " Precisión en el conjunto de prueba: 0.9543\n",
            " Pérdida en el conjunto de prueba: 0.2000\n"
          ]
        }
      ],
      "source": [
        "test_loss, test_acc = model.evaluate(test_generator)\n",
        "print(f' Precisión en el conjunto de prueba: {test_acc:.4f}')\n",
        "print(f' Pérdida en el conjunto de prueba: {test_loss:.4f}')"
      ]
    },
    {
      "cell_type": "markdown",
      "metadata": {
        "id": "arlAbip3dheA"
      },
      "source": [
        "7. Predecir una imagen individual"
      ]
    },
    {
      "cell_type": "code",
      "execution_count": 50,
      "metadata": {},
      "outputs": [
        {
          "data": {
            "application/vnd.jupyter.widget-view+json": {
              "model_id": "b467e98fdf304195b3bdc8c61e81057c",
              "version_major": 2,
              "version_minor": 0
            },
            "text/plain": [
              "FileUpload(value=(), accept='image/*', description='Upload')"
            ]
          },
          "metadata": {},
          "output_type": "display_data"
        }
      ],
      "source": [
        "import ipywidgets as widgets\n",
        "from IPython.display import display\n",
        "import io\n",
        "import numpy as np\n",
        "from tensorflow.keras.preprocessing import image\n",
        "\n",
        "uploader = widgets.FileUpload(accept='image/*', multiple=False)\n",
        "display(uploader)\n",
        "\n",
        "def get_img_array(uploader):\n",
        "    if not uploader.value:\n",
        "        raise ValueError(\"Por favor, sube una imagen.\")\n",
        "    files = uploader.value\n",
        "    if isinstance(files, dict):\n",
        "        files = list(files.values())\n",
        "    file_info = files[0]\n",
        "    img_bytes = io.BytesIO(file_info['content'])\n",
        "    img = image.load_img(img_bytes, target_size=(100, 100))\n",
        "    img_array = image.img_to_array(img)\n",
        "    img_array = np.expand_dims(img_array, axis=0) / 255.0\n",
        "    return img, img_array"
      ]
    },
    {
      "cell_type": "code",
      "execution_count": 69,
      "metadata": {},
      "outputs": [
        {
          "name": "stdout",
          "output_type": "stream",
          "text": [
            "Imagen cargada correctamente.\n"
          ]
        }
      ],
      "source": [
        "try:\n",
        "    img, img_array = get_img_array(uploader)\n",
        "    print(\"Imagen cargada correctamente.\")\n",
        "except Exception as e:\n",
        "    print(\"Aún no has subido una imagen o hubo un error:\", e)"
      ]
    },
    {
      "cell_type": "code",
      "execution_count": 70,
      "metadata": {
        "id": "ib9nVBUZdn7u"
      },
      "outputs": [
        {
          "name": "stdout",
          "output_type": "stream",
          "text": [
            "\u001b[1m1/1\u001b[0m \u001b[32m━━━━━━━━━━━━━━━━━━━━\u001b[0m\u001b[37m\u001b[0m \u001b[1m0s\u001b[0m 45ms/step\n",
            "Clase predicha: Banana Lady Finger 1\n"
          ]
        }
      ],
      "source": [
        "prediction = model.predict(img_array)\n",
        "predicted_class = np.argmax(prediction)\n",
        "class_labels = list(train_generator.class_indices.keys())\n",
        "\n",
        "print(f'Clase predicha: {class_labels[predicted_class]}')\n"
      ]
    },
    {
      "cell_type": "code",
      "execution_count": 71,
      "metadata": {
        "id": "MquDVS6DdqL9"
      },
      "outputs": [
        {
          "data": {
            "image/png": "[encoded data removed]",
            "text/plain": [
              "<Figure size 640x480 with 1 Axes>"
            ]
          },
          "metadata": {},
          "output_type": "display_data"
        }
      ],
      "source": [
        "plt.imshow(img)\n",
        "plt.axis('off')\n",
        "plt.title(f'Predicción: {class_labels[predicted_class]}')\n",
        "plt.show()"
      ]
    }
  ],
  "metadata": {
    "accelerator": "GPU",
    "colab": {
      "gpuType": "T4",
      "provenance": []
    },
    "kernelspec": {
      "display_name": ".venv",
      "language": "python",
      "name": "python3"
    },
    "language_info": {
      "codemirror_mode": {
        "name": "ipython",
        "version": 3
      },
      "file_extension": ".py",
      "mimetype": "text/x-python",
      "name": "python",
      "nbconvert_exporter": "python",
      "pygments_lexer": "ipython3",
      "version": "3.12.6"
    }
  },
  "nbformat": 4,
  "nbformat_minor": 0
}
